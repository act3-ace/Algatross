{
 "cells": [
  {
   "cell_type": "code",
   "execution_count": 15,
   "metadata": {},
   "outputs": [
    {
     "name": "stdout",
     "output_type": "stream",
     "text": [
      "The autoreload extension is already loaded. To reload it, use:\n",
      "  %reload_ext autoreload\n"
     ]
    }
   ],
   "source": [
    "%load_ext autoreload\n",
    "\n",
    "import numpy as np\n",
    "import torch\n",
    "import re\n",
    "import pandas as pd\n",
    "import pytz\n",
    "\n",
    "from datetime import datetime\n",
    "from matplotlib import pyplot as plt\n",
    "from pathlib import Path\n",
    "\n",
    "\n",
    "def get_time_stamp(timezone: str = \"US/Eastern\") -> str:\n",
    "    \"\"\"Get current string-like timestamp.\"\"\"\n",
    "    utc_now = pytz.utc.localize(datetime.utcnow())\n",
    "    tz = pytz.timezone(timezone)\n",
    "    utc_as_tz = utc_now.astimezone(tz)\n",
    "    return f\"{utc_as_tz.strftime('%m%d%y-%H%M%S')}\"\n",
    "\n",
    "\n",
    "ts = get_time_stamp()\n"
   ]
  },
  {
   "cell_type": "code",
   "execution_count": 16,
   "metadata": {},
   "outputs": [],
   "source": [
    "out_root = \"/opt/home/mo-marl/scripts/debug/cleanrl/data_out-iter=1-islands=12/\"\n",
    "from_path = Path(out_root) / \"df.pkl\"\n",
    "df = pd.read_pickle(from_path)\n",
    "df = df.set_index(\"index\")\n",
    "\n",
    "figures_dir = Path(out_root) / ts / \"figures\"\n",
    "if not figures_dir.exists():\n",
    "    figures_dir.mkdir(parents=True)"
   ]
  },
  {
   "cell_type": "code",
   "execution_count": 17,
   "metadata": {},
   "outputs": [],
   "source": [
    "rx = re.compile(r\"/(\\d+)/\")"
   ]
  },
  {
   "cell_type": "code",
   "execution_count": 18,
   "metadata": {},
   "outputs": [],
   "source": [
    "for name, row in df.iterrows():\n",
    "    island_id = rx.findall(name)[0]\n",
    "    df.at[name, 'island_id'] = int(island_id)\n",
    "\n",
    "df = df.astype({\n",
    "    'island_id': int,\n",
    "    'epoch': int\n",
    "})"
   ]
  },
  {
   "cell_type": "code",
   "execution_count": 19,
   "metadata": {},
   "outputs": [
    {
     "name": "stdout",
     "output_type": "stream",
     "text": [
      "[5 6 2 1 3 0 4]\n",
      "Index(['add_migrants_to_buffer', 'evolve/info/team/0/boundary_penalty',\n",
      "       'evolve/info/team/0/agent/adversary_0/training/kl_coeff',\n",
      "       'evolve/info/team/0/minimum_ally_speed',\n",
      "       'evolve/info/team/0/agent/adversary_0/boundary_penalty',\n",
      "       'evolve/info/team/0/agent/agent_0/rollout/returns',\n",
      "       'evolve/info/team/0/agent/adversary_0/rollout/returns',\n",
      "       'evolve/info/team/0/agent/adversary_0/minimum_ally_speed',\n",
      "       'evolve/info/team/0/agent/adversary_0/minimum_adversary_speed',\n",
      "       'evolve/info/team/0/agent/adversary_0/training/vf_explained_var',\n",
      "       'evolve/info/team/0/agent/adversary_0/closest_landmark_distance',\n",
      "       'evolve/info/team/0/closest_adversary_distance',\n",
      "       'evolve/info/team/0/tag_score',\n",
      "       'evolve/info/team/0/closest_ally_distance',\n",
      "       'evolve/info/team/0/agent/adversary_0/training/total_loss',\n",
      "       'evolve/info/team/0/agent/adversary_0/training/critic_loss',\n",
      "       'evolve/info/team/0/agent/adversary_0/training/entropy',\n",
      "       'evolve/info/team/0/agent/agent_1/rollout/returns',\n",
      "       'evolve/info/team/0/agent/adversary_0/closest_ally_distance',\n",
      "       'evolve/info/team/0/agent/adversary_0/training/grad_norm',\n",
      "       'evolve/info/team/0/agent/adversary_0/training/kl_loss',\n",
      "       'evolve/info/team/0/closest_landmark_distance',\n",
      "       'evolve/info/team/0/minimum_adversary_speed',\n",
      "       'evolve/info/team/0/agent/adversary_0/closest_adversary_distance',\n",
      "       'evolve/info/team/0/agent/adversary_0/training/actor_loss',\n",
      "       'evolve/fitness/team/0',\n",
      "       'evolve/info/team/0/agent/adversary_0/training/entropy_coeff',\n",
      "       'evolve/info/team/0/agent/adversary_0/tag_score', 'epoch', 'island',\n",
      "       'evolve/info/team/0/agent/agent_0/minimum_adversary_speed',\n",
      "       'evolve/info/team/0/agent/agent_0/tag_score',\n",
      "       'evolve/info/team/0/agent/agent_0/training/entropy',\n",
      "       'evolve/info/team/0/agent/agent_0/training/grad_norm',\n",
      "       'evolve/info/team/0/agent/agent_0/closest_ally_distance',\n",
      "       'evolve/info/team/0/agent/agent_0/training/critic_loss',\n",
      "       'evolve/info/team/0/agent/agent_0/training/kl_coeff',\n",
      "       'evolve/info/team/0/agent/agent_0/boundary_penalty',\n",
      "       'evolve/info/team/0/agent/agent_0/training/vf_explained_var',\n",
      "       'evolve/info/team/0/agent/agent_0/training/actor_loss',\n",
      "       'evolve/info/team/0/agent/agent_0/closest_adversary_distance',\n",
      "       'evolve/info/team/0/agent/agent_0/training/kl_loss',\n",
      "       'evolve/info/team/0/agent/agent_0/training/entropy_coeff',\n",
      "       'evolve/info/team/0/agent/adversary_1/rollout/returns',\n",
      "       'evolve/info/team/0/agent/agent_0/closest_landmark_distance',\n",
      "       'evolve/info/team/0/agent/agent_0/minimum_ally_speed',\n",
      "       'evolve/info/team/0/agent/agent_0/training/total_loss',\n",
      "       'evolve/info/team/0/agent/adversary_2/rollout/returns', 'island_id'],\n",
      "      dtype='object')\n",
      "evolve/fitness/team/0\n"
     ]
    }
   ],
   "source": [
    "island_ids = df['island_id'].unique()\n",
    "print(island_ids)\n",
    "print(df.keys())\n",
    "for key in list(df.keys()):\n",
    "    if 'fitness' in key:\n",
    "        print(key)"
   ]
  },
  {
   "cell_type": "code",
   "execution_count": 23,
   "metadata": {},
   "outputs": [],
   "source": [
    "def plot_col(f, ax, df, island_id, key, out_dir='figures'):\n",
    "    # f, ax = plt.subplots(1, 1)\n",
    "    x = []\n",
    "    y = []\n",
    "    y_err = []\n",
    "    for name, row in df[df['island_id'] == island_id].sort_values(by='epoch').iterrows():\n",
    "        epoch = int(row['epoch'])\n",
    "        x.append(epoch)\n",
    "        data = row[key]\n",
    "        if isinstance(data, float):\n",
    "            y.append(data)\n",
    "        else:\n",
    "            data_mean = data.mean()\n",
    "            data_std = data.std()\n",
    "            y.append(data_mean)\n",
    "            y_err.append(data_std)\n",
    "\n",
    "    y = np.asarray(y)\n",
    "    y_err = np.asarray(y_err)\n",
    "\n",
    "    ax.plot(x, y, label=key)\n",
    "\n",
    "    if len(y_err):\n",
    "        ax.fill_between(x, y-y_err, y+y_err, alpha=0.2)\n",
    "\n",
    "    if True in np.isnan(y):\n",
    "        ax.set_title(f\"Island {int(island_id)} (NaN detected)\", c='r')\n",
    "    else:\n",
    "        ax.set_title(f\"Island {int(island_id)}\")\n",
    "\n",
    "    ax.set_xlabel('epochs')\n",
    "    ax.legend()\n",
    "    # plt.show()\n",
    "    # plt.close()"
   ]
  },
  {
   "cell_type": "code",
   "execution_count": 24,
   "metadata": {},
   "outputs": [
    {
     "name": "stdout",
     "output_type": "stream",
     "text": [
      "total count 45\n",
      "num rows 9\n",
      "leftover 0\n",
      "num cols 5\n"
     ]
    }
   ],
   "source": [
    "max_plt_cols = 5\n",
    "count = 0\n",
    "\n",
    "for col in df.keys():\n",
    "    if 'evolve' in col:\n",
    "        count += 1\n",
    "\n",
    "print(\"total count\", count)\n",
    "num_rows = count // max_plt_cols\n",
    "leftover = count % max_plt_cols\n",
    "print(\"num rows\", num_rows)\n",
    "print(\"leftover\", leftover)\n",
    "num_cols = max_plt_cols + bool(leftover)\n",
    "print(\"num cols\", num_cols)"
   ]
  },
  {
   "cell_type": "code",
   "execution_count": 8,
   "metadata": {},
   "outputs": [
    {
     "data": {
      "image/png": "[encoded data removed]",
      "text/plain": [
       "<Figure size 640x480 with 1 Axes>"
      ]
     },
     "metadata": {},
     "output_type": "display_data"
    }
   ],
   "source": [
    "f, ax = plt.subplots(1, 1)\n",
    "\n",
    "key = 'evolve/info/team/0/agent/adversary_0/training/grad_norm'\n",
    "plot_col(f, ax, df, 0, key)\n"
   ]
  },
  {
   "cell_type": "code",
   "execution_count": 48,
   "metadata": {},
   "outputs": [
    {
     "data": {
      "text/plain": [
       "6"
      ]
     },
     "execution_count": 48,
     "metadata": {},
     "output_type": "execute_result"
    }
   ],
   "source": [
    "31 // 5"
   ]
  },
  {
   "cell_type": "markdown",
   "metadata": {},
   "source": [
    "## All plots for one island"
   ]
  },
  {
   "cell_type": "code",
   "execution_count": 25,
   "metadata": {},
   "outputs": [
    {
     "name": "stdout",
     "output_type": "stream",
     "text": [
      "total count 45\n",
      "num rows 9\n",
      "leftover 0\n",
      "num cols 5\n"
     ]
    }
   ],
   "source": [
    "max_plt_cols = 5\n",
    "count = 0\n",
    "\n",
    "for col in df.keys():\n",
    "    if 'evolve' in col:\n",
    "        count += 1\n",
    "\n",
    "print(\"total count\", count)\n",
    "num_rows = count // max_plt_cols\n",
    "leftover = count % max_plt_cols\n",
    "print(\"num rows\", num_rows)\n",
    "print(\"leftover\", leftover)\n",
    "num_cols = max_plt_cols + bool(leftover)\n",
    "print(\"num cols\", num_cols)"
   ]
  },
  {
   "cell_type": "code",
   "execution_count": 26,
   "metadata": {},
   "outputs": [
    {
     "name": "stdout",
     "output_type": "stream",
     "text": [
      "keys 45\n",
      "keys 45\n",
      "keys 45\n",
      "keys 45\n",
      "keys 45\n",
      "keys 45\n",
      "keys 45\n"
     ]
    }
   ],
   "source": [
    "figures_dir = Path(out_root) / ts / \"figures\"\n",
    "if not figures_dir.exists():\n",
    "    figures_dir.mkdir(parents=True)\n",
    "\n",
    "for island_id, idf in df.groupby('island_id'):\n",
    "    f, ax = plt.subplots(ncols=num_cols, nrows=num_rows)\n",
    "    f.set_size_inches(num_cols * 6, num_rows * 7)\n",
    "    \n",
    "    keys = [key for key in idf.keys() if 'evolve' in key]\n",
    "    print('keys', len(keys))\n",
    "    col = 0\n",
    "    row = 0\n",
    "    for ix, key in enumerate(keys):\n",
    "        # print(key)\n",
    "        # print(row, col)\n",
    "        axes_obj = ax[row, col]\n",
    "        plot_col(f, axes_obj, idf, island_id, key)\n",
    "        col = (col + 1) % (num_cols)\n",
    "        if ix != 0 and col == 0:\n",
    "            row += 1\n",
    "    \n",
    "    f.savefig(figures_dir / f\"island-{int(island_id)}.pdf\")\n",
    "    plt.close()"
   ]
  },
  {
   "cell_type": "code",
   "execution_count": 14,
   "metadata": {},
   "outputs": [
    {
     "data": {
      "text/plain": [
       "array([ True,  True,  True,  True,  True,  True,  True,  True,  True,\n",
       "        True])"
      ]
     },
     "execution_count": 14,
     "metadata": {},
     "output_type": "execute_result"
    }
   ],
   "source": [
    "nanl = [np.nan] * 10\n",
    "np.isnan(nanl)"
   ]
  },
  {
   "cell_type": "code",
   "execution_count": 65,
   "metadata": {},
   "outputs": [
    {
     "name": "stdout",
     "output_type": "stream",
     "text": [
      "evolve/info/team/0/minimum_ally_speed\n",
      "evolve/info/team/0/minimum_adversary_speed\n",
      "evolve/info/team/0/closest_landmark_distance\n",
      "evolve/info/team/0/boundary_penalty\n",
      "evolve/info/team/0/closest_adversary_distance\n",
      "evolve/info/team/0/tag_score\n",
      "evolve/info/team/0/closest_ally_distance\n"
     ]
    }
   ],
   "source": [
    "# from config\n",
    "fitness_metric_keys = [\n",
    "    \"tag_score\",\n",
    "    \"minimum_ally_speed\",\n",
    "    \"minimum_adversary_speed\",\n",
    "    \"closest_ally_distance\",\n",
    "    \"closest_adversary_distance\",\n",
    "    \"closest_landmark_distance\",\n",
    "    \"boundary_penalty\",\n",
    "]\n",
    "\n",
    "for key in list(df.keys()):\n",
    "    for metric in fitness_metric_keys:\n",
    "        if metric in key:\n",
    "            print(key)"
   ]
  },
  {
   "cell_type": "markdown",
   "metadata": {},
   "source": [
    "## All islands for couple plot"
   ]
  },
  {
   "cell_type": "code",
   "execution_count": 32,
   "metadata": {},
   "outputs": [
    {
     "name": "stdout",
     "output_type": "stream",
     "text": [
      "total count 4\n",
      "total count 28\n",
      "num rows 4\n",
      "leftover 0\n",
      "num cols 7\n",
      "kept ['evolve/info/team/0/tag_score', 'evolve/fitness/team/0', 'evolve/info/team/0/agent/adversary_0/tag_score', 'evolve/info/team/0/agent/agent_0/tag_score']\n"
     ]
    }
   ],
   "source": [
    "max_plt_cols = 7\n",
    "count = 0\n",
    "island_ids = df['island_id'].unique()\n",
    "\n",
    "keep_keys = []\n",
    "\n",
    "\n",
    "search_terms = [\n",
    "    'fitness',\n",
    "    \"tag_score\",\n",
    "]\n",
    "\n",
    "for key in df.keys():\n",
    "    for term in search_terms:\n",
    "        if term in key:\n",
    "            if key not in keep_keys:\n",
    "                count += 1\n",
    "                keep_keys.append(key)\n",
    "\n",
    "\n",
    "print(\"total count\", count)\n",
    "count *= len(island_ids)\n",
    "print(\"total count\", count)\n",
    "num_rows = max(1, count // max_plt_cols)\n",
    "leftover = count % max_plt_cols\n",
    "print(\"num rows\", num_rows)\n",
    "print(\"leftover\", leftover)\n",
    "num_cols = max_plt_cols + bool(leftover)\n",
    "print(\"num cols\", num_cols)\n",
    "print(\"kept\", keep_keys)"
   ]
  },
  {
   "cell_type": "code",
   "execution_count": 33,
   "metadata": {},
   "outputs": [],
   "source": [
    "figures_dir = Path(out_root) / \"figures\"\n",
    "if not figures_dir.exists():\n",
    "    figures_dir.mkdir(parents=True)\n",
    "\n",
    "f, ax = plt.subplots(ncols=num_cols, nrows=num_rows)\n",
    "f.set_size_inches(num_cols * 6, num_rows * 7)\n",
    "col = 0\n",
    "row = 0\n",
    "counter = 0\n",
    "\n",
    "for ix, key in enumerate(keep_keys):\n",
    "\n",
    "    for island_id, idf in df.groupby('island_id'):\n",
    "\n",
    "        if num_rows > 1:\n",
    "            axes_obj = ax[row, col]\n",
    "        else:\n",
    "            axes_obj = ax[col]\n",
    "\n",
    "        plot_col(f, axes_obj, idf, island_id, key)\n",
    "        col = (col + 1) % num_cols\n",
    "        if counter != 0 and col == 0:\n",
    "            row += 1\n",
    "        \n",
    "        counter += 1\n",
    "    \n",
    "f.savefig(figures_dir / f\"allisland-{'-'.join(search_terms)}.pdf\")\n",
    "plt.close()"
   ]
  },
  {
   "cell_type": "markdown",
   "metadata": {},
   "source": [
    "## plot per fitness metric"
   ]
  },
  {
   "cell_type": "code",
   "execution_count": 34,
   "metadata": {},
   "outputs": [
    {
     "name": "stdout",
     "output_type": "stream",
     "text": [
      "=========================\n",
      "\ttag_score\n",
      "total count 3\n",
      "total count 21\n",
      "num rows 3\n",
      "leftover 0\n",
      "num cols 7\n",
      "kept ['evolve/info/team/0/tag_score', 'evolve/info/team/0/agent/adversary_0/tag_score', 'evolve/info/team/0/agent/agent_0/tag_score']\n",
      "=========================\n",
      "\tminimum_ally_speed\n",
      "total count 3\n",
      "total count 21\n",
      "num rows 3\n",
      "leftover 0\n",
      "num cols 7\n",
      "kept ['evolve/info/team/0/minimum_ally_speed', 'evolve/info/team/0/agent/adversary_0/minimum_ally_speed', 'evolve/info/team/0/agent/agent_0/minimum_ally_speed']\n",
      "=========================\n",
      "\tminimum_adversary_speed\n",
      "total count 3\n",
      "total count 21\n",
      "num rows 3\n",
      "leftover 0\n",
      "num cols 7\n",
      "kept ['evolve/info/team/0/agent/adversary_0/minimum_adversary_speed', 'evolve/info/team/0/minimum_adversary_speed', 'evolve/info/team/0/agent/agent_0/minimum_adversary_speed']\n",
      "=========================\n",
      "\tclosest_ally_distance\n",
      "total count 3\n",
      "total count 21\n",
      "num rows 3\n",
      "leftover 0\n",
      "num cols 7\n",
      "kept ['evolve/info/team/0/closest_ally_distance', 'evolve/info/team/0/agent/adversary_0/closest_ally_distance', 'evolve/info/team/0/agent/agent_0/closest_ally_distance']\n",
      "=========================\n",
      "\tclosest_adversary_distance\n",
      "total count 3\n",
      "total count 21\n",
      "num rows 3\n",
      "leftover 0\n",
      "num cols 7\n",
      "kept ['evolve/info/team/0/closest_adversary_distance', 'evolve/info/team/0/agent/adversary_0/closest_adversary_distance', 'evolve/info/team/0/agent/agent_0/closest_adversary_distance']\n",
      "=========================\n",
      "\tclosest_landmark_distance\n",
      "total count 3\n",
      "total count 21\n",
      "num rows 3\n",
      "leftover 0\n",
      "num cols 7\n",
      "kept ['evolve/info/team/0/agent/adversary_0/closest_landmark_distance', 'evolve/info/team/0/closest_landmark_distance', 'evolve/info/team/0/agent/agent_0/closest_landmark_distance']\n",
      "=========================\n",
      "\tboundary_penalty\n",
      "total count 3\n",
      "total count 21\n",
      "num rows 3\n",
      "leftover 0\n",
      "num cols 7\n",
      "kept ['evolve/info/team/0/boundary_penalty', 'evolve/info/team/0/agent/adversary_0/boundary_penalty', 'evolve/info/team/0/agent/agent_0/boundary_penalty']\n"
     ]
    }
   ],
   "source": [
    "max_plt_cols = 7\n",
    "\n",
    "search_terms = [\n",
    "    \"tag_score\",\n",
    "    \"minimum_ally_speed\",\n",
    "    \"minimum_adversary_speed\",\n",
    "    \"closest_ally_distance\",\n",
    "    \"closest_adversary_distance\",\n",
    "    \"closest_landmark_distance\",\n",
    "    \"boundary_penalty\",\n",
    "]\n",
    "\n",
    "for term in search_terms:\n",
    "    print('=' * 25)\n",
    "    print(f'\\t{term}')\n",
    "    keep_keys = []\n",
    "    count = 0\n",
    "\n",
    "    for key in df.keys():\n",
    "        if term in key:\n",
    "            if key not in keep_keys:\n",
    "                count += 1\n",
    "                keep_keys.append(key)\n",
    "\n",
    "\n",
    "    print(\"total count\", count)\n",
    "    count *= len(island_ids)\n",
    "    print(\"total count\", count)\n",
    "    num_rows = max(1, count // max_plt_cols)\n",
    "    leftover = count % max_plt_cols\n",
    "    print(\"num rows\", num_rows)\n",
    "    print(\"leftover\", leftover)\n",
    "    num_cols = max_plt_cols + bool(leftover)\n",
    "    print(\"num cols\", num_cols)\n",
    "    print(\"kept\", keep_keys)\n",
    "\n",
    "    f, ax = plt.subplots(ncols=num_cols, nrows=num_rows)\n",
    "    f.set_size_inches(num_cols * 6, num_rows * 7)\n",
    "    col = 0\n",
    "    row = 0\n",
    "    counter = 0\n",
    "\n",
    "    for ix, key in enumerate(keep_keys):\n",
    "\n",
    "        for island_id, idf in df.groupby('island_id'):\n",
    "\n",
    "            if num_rows > 1:\n",
    "                axes_obj = ax[row, col]\n",
    "            else:\n",
    "                axes_obj = ax[col]\n",
    "\n",
    "            plot_col(f, axes_obj, idf, island_id, key)\n",
    "            col = (col + 1) % num_cols\n",
    "            if counter != 0 and col == 0:\n",
    "                row += 1\n",
    "            \n",
    "            counter += 1\n",
    "        \n",
    "    f.savefig(figures_dir / f\"allisland-{term}.pdf\")\n",
    "    plt.close()"
   ]
  },
  {
   "cell_type": "code",
   "execution_count": null,
   "metadata": {},
   "outputs": [],
   "source": []
  }
 ],
 "metadata": {
  "kernelspec": {
   "display_name": "marl_env",
   "language": "python",
   "name": "python3"
  },
  "language_info": {
   "codemirror_mode": {
    "name": "ipython",
    "version": 3
   },
   "file_extension": ".py",
   "mimetype": "text/x-python",
   "name": "python",
   "nbconvert_exporter": "python",
   "pygments_lexer": "ipython3",
   "version": "3.10.14"
  }
 },
 "nbformat": 4,
 "nbformat_minor": 2
}
